{
  "cells": [
    {
      "cell_type": "markdown",
      "metadata": {
        "id": "view-in-github",
        "colab_type": "text"
      },
      "source": [
        "<a href=\"https://colab.research.google.com/github/srinisosale/python-pgpaiml/blob/main/.ipynb\" target=\"_parent\"><img src=\"https://colab.research.google.com/assets/colab-badge.svg\" alt=\"Open In Colab\"/></a>"
      ]
    },
    {
      "cell_type": "code",
      "execution_count": null,
      "metadata": {
        "colab": {
          "base_uri": "https://localhost:8080/",
          "height": 35
        },
        "id": "heVn7gqeNWR5",
        "outputId": "729b5b7f-22ec-4f13-e711-ae85d2a1366f"
      },
      "outputs": [
        {
          "data": {
            "application/vnd.google.colaboratory.intrinsic+json": {
              "type": "string"
            },
            "text/plain": [
              "'python'"
            ]
          },
          "execution_count": 1,
          "metadata": {},
          "output_type": "execute_result"
        }
      ],
      "source": [
        "myString = \"python\"\n",
        "myString"
      ]
    },
    {
      "cell_type": "code",
      "execution_count": null,
      "metadata": {
        "colab": {
          "base_uri": "https://localhost:8080/"
        },
        "id": "ZYml8CTaj0bg",
        "outputId": "8ca6a2dd-ee65-496f-bc3c-8b189913be99"
      },
      "outputs": [
        {
          "data": {
            "text/plain": [
              "['Data Science', 'Machine Learning', 'Artificial Intelligence', 'python']"
            ]
          },
          "execution_count": 2,
          "metadata": {},
          "output_type": "execute_result"
        }
      ],
      "source": [
        "myList = ['Data Science','Machine Learning','Artificial Intelligence','python']\n",
        "myList"
      ]
    },
    {
      "cell_type": "code",
      "execution_count": null,
      "metadata": {
        "id": "UEqUJI8plpw2"
      },
      "outputs": [],
      "source": []
    },
    {
      "cell_type": "code",
      "execution_count": null,
      "metadata": {
        "colab": {
          "base_uri": "https://localhost:8080/"
        },
        "id": "EIspEeIKkfks",
        "outputId": "c63238b7-daf8-4c60-8f46-4eb8a4255399"
      },
      "outputs": [
        {
          "name": "stdout",
          "output_type": "stream",
          "text": [
            "python Tutorial\n"
          ]
        }
      ],
      "source": [
        "if myString in myList:\n",
        "  print(myString + ' Tutorial')"
      ]
    },
    {
      "cell_type": "code",
      "execution_count": null,
      "metadata": {
        "colab": {
          "base_uri": "https://localhost:8080/"
        },
        "id": "SgSM715BlrOK",
        "outputId": "3fbf43d3-5bd6-43a1-eeb8-6638afe67435"
      },
      "outputs": [
        {
          "name": "stdout",
          "output_type": "stream",
          "text": [
            "right\n"
          ]
        }
      ],
      "source": [
        "myLanguages = ['Java', 'Python', 'Perl,','Ruby','c#']\n",
        "if 'Java' in myLanguages:\n",
        "  print('right')"
      ]
    },
    {
      "cell_type": "code",
      "execution_count": null,
      "metadata": {
        "colab": {
          "base_uri": "https://localhost:8080/"
        },
        "id": "HAjTkiY3kamX",
        "outputId": "e300565d-f869-4530-dcee-1ad110d2ff3a"
      },
      "outputs": [
        {
          "name": "stdout",
          "output_type": "stream",
          "text": [
            "500\n",
            "The value of is equal to 500\n"
          ]
        }
      ],
      "source": [
        "x=500\n",
        "print(x)\n",
        "if not x == 500:\n",
        "  print('The value of different from 500')\n",
        "else:\n",
        "    print('The value of is equal to 500')"
      ]
    },
    {
      "cell_type": "code",
      "execution_count": null,
      "metadata": {
        "colab": {
          "base_uri": "https://localhost:8080/"
        },
        "id": "zrBpfW2eWKrK",
        "outputId": "8de270fb-db80-4821-9b3f-8ce7e7f934ff"
      },
      "outputs": [
        {
          "name": "stdout",
          "output_type": "stream",
          "text": [
            "enter your useridgreatLearning\n",
            "enter your passwordsimpleLearning123\n",
            "Successfully loggedin!!\n"
          ]
        }
      ],
      "source": [
        "string1=str(input(\"enter your userid\"))\n",
        "string2=str(input(\"enter your password\"))\n",
        "if(string1==\"greatLearning\" and string2==\"simpleLearning123\"):\n",
        "  print(\"Successfully loggedin!!\")\n",
        "else:\n",
        "    print(\"Please check your userid or password\")\n",
        "    \n"
      ]
    },
    {
      "cell_type": "code",
      "execution_count": null,
      "metadata": {
        "colab": {
          "base_uri": "https://localhost:8080/"
        },
        "id": "WNAthYSNZ8Ke",
        "outputId": "07ed8ba7-dc92-4682-ff10-dc9d193f8495"
      },
      "outputs": [
        {
          "name": "stdout",
          "output_type": "stream",
          "text": [
            "Number is smaller than 50\n"
          ]
        }
      ],
      "source": [
        "num=1\n",
        "if(num==0):\n",
        "  print(\"Number is Zero\")\n",
        "elif(num>5):\n",
        "  print(\"Number is greater than 50\")\n",
        "else:\n",
        "  print(\"Number is smaller than 50\")\n"
      ]
    },
    {
      "cell_type": "code",
      "execution_count": null,
      "metadata": {
        "colab": {
          "base_uri": "https://localhost:8080/"
        },
        "id": "2e4gY8HlgEI1",
        "outputId": "04753b8d-0685-41f2-fb2b-4b3351e40fd0"
      },
      "outputs": [
        {
          "name": "stdout",
          "output_type": "stream",
          "text": [
            "Enter a number: -1\n",
            "Negative Number\n"
          ]
        }
      ],
      "source": [
        "num=float(input(\"Enter a number: \"))\n",
        "if(num >= 0):\n",
        "  if(num==0):\n",
        "    print(\"Zero\")\n",
        "  else:\n",
        "      print(\"Positive Number\")\n",
        "else:\n",
        "  print(\"Negative Number\")"
      ]
    },
    {
      "cell_type": "code",
      "execution_count": null,
      "metadata": {
        "id": "nx93HAx7jQyV"
      },
      "outputs": [],
      "source": [
        "if2>5:\n",
        "  print(\"True\")\n",
        "else: 2<5\n",
        "  print(\"False\")"
      ]
    },
    {
      "cell_type": "markdown",
      "metadata": {
        "id": "sZQswVD7QYmf"
      },
      "source": [
        "Program to find list of numbers"
      ]
    },
    {
      "cell_type": "code",
      "execution_count": null,
      "metadata": {
        "colab": {
          "base_uri": "https://localhost:8080/"
        },
        "id": "g723rZv9Qe9m",
        "outputId": "88349b30-0e91-4248-e297-82af31561282"
      },
      "outputs": [
        {
          "name": "stdout",
          "output_type": "stream",
          "text": [
            "The sum is 2412\n"
          ]
        }
      ],
      "source": [
        "numbers=[66,545,223,438,224,122,125,214,111,344]\n",
        "#variable to store sum\n",
        "sum=0\n",
        "#iterate over the list\n",
        "for val in numbers:\n",
        "  sum=sum+val\n",
        "#output: The sum is\n",
        "print(\"The sum is\", sum)"
      ]
    },
    {
      "cell_type": "markdown",
      "metadata": {
        "id": "jLAqUrFmSZ9Z"
      },
      "source": [
        "While loop"
      ]
    },
    {
      "cell_type": "markdown",
      "metadata": {
        "id": "256-jvTpSg_v"
      },
      "source": [
        "Calculate the sum of integers"
      ]
    },
    {
      "cell_type": "code",
      "execution_count": null,
      "metadata": {
        "colab": {
          "base_uri": "https://localhost:8080/"
        },
        "id": "5TUKInGoSjgq",
        "outputId": "e9fe39ed-70cf-4cb3-c482-255eb5e86248"
      },
      "outputs": [
        {
          "name": "stdout",
          "output_type": "stream",
          "text": [
            "The sum of first 9 integers:  45\n"
          ]
        }
      ],
      "source": [
        "a=0\n",
        "b=0\n",
        "while(a<10):\n",
        "  b=b+a\n",
        "  a=a+1\n",
        "else:\n",
        "  print(\"The sum of first 9 integers: \",b)\n",
        "\n"
      ]
    },
    {
      "cell_type": "code",
      "execution_count": null,
      "metadata": {
        "colab": {
          "base_uri": "https://localhost:8080/"
        },
        "id": "iXAXqembQWGA",
        "outputId": "49d530dd-5b8b-4a7c-8b7b-410e62cae3f2"
      },
      "outputs": [
        {
          "name": "stdout",
          "output_type": "stream",
          "text": [
            "[0, 0, 3, 4]\n"
          ]
        }
      ],
      "source": [
        "numb=[1, 2, 3, 4]\n",
        "numb_new=[]\n",
        "for i in numb:\n",
        "    if i>=3:\n",
        "        numb_new.append(i)\n",
        "    else:\n",
        "        numb_new.append(0)\n",
        "print(numb_new)"
      ]
    },
    {
      "cell_type": "code",
      "execution_count": null,
      "metadata": {
        "colab": {
          "base_uri": "https://localhost:8080/"
        },
        "id": "1aAq8YO04Vk7",
        "outputId": "c35e6886-499f-4bfb-a1fb-cf1664f47c46"
      },
      "outputs": [
        {
          "name": "stdout",
          "output_type": "stream",
          "text": [
            "87\n",
            "67\n",
            "44\n",
            "76\n",
            "98\n",
            "no negative numbers met\n"
          ]
        }
      ],
      "source": [
        "for i in range(5):\n",
        "  a=int(input())\n",
        "  if a<0:\n",
        "    print('met a negative number',a)\n",
        "    break\n",
        "else:\n",
        "  print('no negative numbers met')\n"
      ]
    },
    {
      "cell_type": "code",
      "execution_count": null,
      "metadata": {
        "id": "j8JUPtN07c-4"
      },
      "outputs": [],
      "source": [
        "l=[0, 1, 2, 3, 4]\n",
        "for i in l:\n",
        "    if i%2==0:\n",
        "        continue\n",
        "    break "
      ]
    },
    {
      "cell_type": "code",
      "execution_count": null,
      "metadata": {
        "colab": {
          "base_uri": "https://localhost:8080/"
        },
        "id": "oyj-79Ln8BSV",
        "outputId": "2b63a7c6-523c-4085-faf9-b27597d0ce3c"
      },
      "outputs": [
        {
          "name": "stdout",
          "output_type": "stream",
          "text": [
            "6\n"
          ]
        }
      ],
      "source": [
        "i=0\n",
        "while i<9999999:\n",
        "    if i==6:\n",
        "        print(6)\n",
        "        break\n",
        "    else:\n",
        "        i = i+1 "
      ]
    },
    {
      "cell_type": "code",
      "execution_count": null,
      "metadata": {
        "colab": {
          "base_uri": "https://localhost:8080/"
        },
        "id": "TCp325AE8Pfd",
        "outputId": "87f20ff6-e217-4e26-fdd8-16e8db84d196"
      },
      "outputs": [
        {
          "data": {
            "text/plain": [
              "1"
            ]
          },
          "execution_count": 15,
          "metadata": {},
          "output_type": "execute_result"
        }
      ],
      "source": [
        "num=1%2\n",
        "num"
      ]
    },
    {
      "cell_type": "code",
      "execution_count": null,
      "metadata": {
        "colab": {
          "base_uri": "https://localhost:8080/"
        },
        "id": "GdMakjobWJc7",
        "outputId": "256386b9-1870-41f3-e5be-082c5870ea5c"
      },
      "outputs": [
        {
          "name": "stdout",
          "output_type": "stream",
          "text": [
            "A == First Letter\n",
            "B == Second Letter\n",
            "C == Third Letter\n"
          ]
        }
      ],
      "source": [
        "def function(**kwargs):\n",
        "  for a,b in kwargs.items():\n",
        "    print(a,\"==\",b)\n",
        "\n",
        "a=function(A=\"First Letter\", B=\"Second Letter\", C=\"Third Letter\")"
      ]
    },
    {
      "cell_type": "code",
      "execution_count": null,
      "metadata": {
        "colab": {
          "base_uri": "https://localhost:8080/"
        },
        "id": "LC9yOe2jW2k5",
        "outputId": "ab4c70e6-2c45-4dfe-8ac7-ebb1e28d1d5c"
      },
      "outputs": [
        {
          "name": "stdout",
          "output_type": "stream",
          "text": [
            "[22.22222222222222, 51.111111111111114, 75.55555555555556, 100.0, 73.33333333333333, 22.22222222222222, 95.55555555555556, 51.111111111111114, 60.0, 75.55555555555556, 82.22222222222223, 97.77777777777777, 93.33333333333333, 95.55555555555556]\n"
          ]
        }
      ],
      "source": [
        "marks = [ 10, 23, 34, 45, 33, 10, 43, 23, 27, 34, 37, 44, 42, 43 ]\n",
        "print(list(map(lambda x,y=100:x*y/45,marks)))"
      ]
    },
    {
      "cell_type": "code",
      "execution_count": null,
      "metadata": {
        "colab": {
          "base_uri": "https://localhost:8080/"
        },
        "id": "7sD85Txxcdx_",
        "outputId": "fd00b778-bb43-45ec-98f0-c1095aa26020"
      },
      "outputs": [
        {
          "name": "stdout",
          "output_type": "stream",
          "text": [
            "Enter a number3\n",
            "6\n"
          ]
        }
      ],
      "source": [
        "def twice():\n",
        "  a=int(input('Enter a number'))\n",
        "  print(a*2)\n",
        "\n",
        "twice()"
      ]
    },
    {
      "cell_type": "code",
      "execution_count": null,
      "metadata": {
        "id": "CgBxqgVL9dso"
      },
      "outputs": [],
      "source": [
        "def add():\n",
        "  print(1+2)"
      ]
    },
    {
      "cell_type": "code",
      "execution_count": null,
      "metadata": {
        "colab": {
          "base_uri": "https://localhost:8080/"
        },
        "id": "t6RjgaN1B6tx",
        "outputId": "067b2488-49c0-4325-843d-7b4c915701f0"
      },
      "outputs": [
        {
          "data": {
            "text/plain": [
              "25.0"
            ]
          },
          "execution_count": 8,
          "metadata": {},
          "output_type": "execute_result"
        }
      ],
      "source": [
        "def average(x):\n",
        "  count = 0\n",
        "  total = 0\n",
        "  for i in x:\n",
        "    count += 1\n",
        "    total += i\n",
        "  avg=total/count\n",
        "  return avg\n",
        "\n",
        "x=(20,30)\n",
        "average(x)\n"
      ]
    },
    {
      "cell_type": "markdown",
      "metadata": {
        "id": "xy-yyot3r83f"
      },
      "source": [
        "    ITP Project using the notes\n",
        "    "
      ]
    },
    {
      "cell_type": "code",
      "execution_count": null,
      "metadata": {
        "colab": {
          "base_uri": "https://localhost:8080/"
        },
        "id": "kNooc4-_r8PI",
        "outputId": "a36616af-bae1-4bad-a4af-fba260d9c14a"
      },
      "outputs": [
        {
          "metadata": {
            "tags": null
          },
          "name": "stdout",
          "output_type": "stream",
          "text": [
            "1= Add on Expense\n",
            "2= subtract on Expense\n",
            "3= Add on Revenue\n",
            "4= Subtract Revenue\n",
            "5= Balance enquiry\n",
            "6 = Exit\n",
            "Your Balance is:  5000\n",
            "1= Add on Expense\n",
            "2= subtract on Expense\n",
            "3= Add on Revenue\n",
            "4= Subtract Revenue\n",
            "5= Balance enquiry\n",
            "6 = Exit\n",
            "Overall budget remaining is :  7400\n",
            "1= Add on Expense\n",
            "2= subtract on Expense\n",
            "3= Add on Revenue\n",
            "4= Subtract Revenue\n",
            "5= Balance enquiry\n",
            "6 = Exit\n",
            "Your Balance is:  7400\n",
            "1= Add on Expense\n",
            "2= subtract on Expense\n",
            "3= Add on Revenue\n",
            "4= Subtract Revenue\n",
            "5= Balance enquiry\n",
            "6 = Exit\n",
            "Overall budget remaining is :  5000\n",
            "1= Add on Expense\n",
            "2= subtract on Expense\n",
            "3= Add on Revenue\n",
            "4= Subtract Revenue\n",
            "5= Balance enquiry\n",
            "6 = Exit\n",
            "Overall budget remaining is :  2600\n",
            "1= Add on Expense\n",
            "2= subtract on Expense\n",
            "3= Add on Revenue\n",
            "4= Subtract Revenue\n",
            "5= Balance enquiry\n",
            "6 = Exit\n",
            "Wrong Entry\n",
            "1= Add on Expense\n",
            "2= subtract on Expense\n",
            "3= Add on Revenue\n",
            "4= Subtract Revenue\n",
            "5= Balance enquiry\n",
            "6 = Exit\n",
            "Overall budget remaining is :  2599\n",
            "1= Add on Expense\n",
            "2= subtract on Expense\n",
            "3= Add on Revenue\n",
            "4= Subtract Revenue\n",
            "5= Balance enquiry\n",
            "6 = Exit\n",
            "Overall budget remaining is :  1499\n",
            "1= Add on Expense\n",
            "2= subtract on Expense\n",
            "3= Add on Revenue\n",
            "4= Subtract Revenue\n",
            "5= Balance enquiry\n",
            "6 = Exit\n"
          ]
        }
      ],
      "source": [
        "def main():\n",
        "  overallBudget = 5000\n",
        "  selection = 0\n",
        "  while selection != '4':\n",
        "    print('1= Add on Expense')\n",
        "    print('2= subtract on Expense')\n",
        "    print('3= Add on Revenue')\n",
        "    print('4= Subtract Revenue')\n",
        "    print('5= Balance enquiry')\n",
        "    print('6 = Exit')\n",
        "\n",
        "    selection = int(input('Please enter a choice'))\n",
        "    if selection == 1:\n",
        "      overallBudget = additionOfExpense(overallBudget)\n",
        "    elif selection == 2:\n",
        "      overallBudget = subtractionOfExpense(overallBudget)\n",
        "    elif selection == 3:\n",
        "      overallBudget = additionOfRevenue(overallBudget)\n",
        "    elif selection == 4:\n",
        "      overallBudget = subtractionOfRevenue(overallBudget)\n",
        "    elif selection == 5:\n",
        "      print('Your Balance is: ',overallBudget)\n",
        "    elif selection == 6:\n",
        "      print(\"Thank You\")\n",
        "      break\n",
        "    else:\n",
        "      print('Wrong Entry')\n",
        "\n",
        "def additionOfExpense(overallBudget):\n",
        "  billing = int(input('Enter the amount of Expense: '))\n",
        "  billFreq = int(input('Enter the frequency of Expense per month: '))\n",
        "  totalBill = billing*billFreq\n",
        "  overallBudget=overallBudget - totalBill\n",
        "  checkOnBudget(overallBudget)\n",
        "  return overallBudget\n",
        "\n",
        "def subtractionOfExpense(overallBudget):\n",
        "  lessBill = int(input('Enter the amount to be subtracted: '))\n",
        "  lessBillFreq = int(input('Enter the frequency of amount subtraction: '))\n",
        "  totalLess = lessBill * lessBillFreq\n",
        "  if totalLess <= overallBudget:\n",
        "    overallBudget = overallBudget + totalLess\n",
        "    checkOnBudget(overallBudget)\n",
        "  else:\n",
        "    print('Please check the amount entered..')\n",
        "    return overallBudget\n",
        "  return overallBudget\n",
        "\n",
        "def additionOfRevenue(overallBudget):\n",
        "  income = int(input('Enter the amount of income: '))\n",
        "  checkOnBudget(overallBudget)\n",
        "  overallBudget = overallBudget + income\n",
        "\n",
        "  return overallBudget\n",
        "\n",
        "def subtractionOfRevenue(overallBudget):\n",
        "  lossIncome = int(input('Enter the loss: '))\n",
        "  overallBudget = overallBudget - lossIncome\n",
        "  checkOnBudget(overallBudget)\n",
        "\n",
        "  return overallBudget\n",
        "\n",
        "def checkOnBudget(overallBudget):\n",
        "  if (overallBudget >= 0):\n",
        "    print('Overall budget remaining is : ', overallBudget)\n",
        "  else:\n",
        "    print('You have exceeded monthly budget')\n",
        "    print('Current Balance is: ',overallBudget)\n",
        "\n",
        "    \n",
        "\n",
        "main()"
      ]
    },
    {
      "cell_type": "code",
      "source": [
        "def cube(n):\n",
        "    if n==10:\n",
        "        return 1\n",
        "    print(n**3)\n",
        "    cube(n+1)\n",
        "cube(0)"
      ],
      "metadata": {
        "colab": {
          "base_uri": "https://localhost:8080/"
        },
        "id": "b1l3wjuD1hd1",
        "outputId": "b174c712-45e8-44e1-de2c-26d1595126f2"
      },
      "execution_count": null,
      "outputs": [
        {
          "output_type": "stream",
          "name": "stdout",
          "text": [
            "0\n",
            "1\n",
            "8\n",
            "27\n",
            "64\n",
            "125\n",
            "216\n",
            "343\n",
            "512\n",
            "729\n"
          ]
        }
      ]
    },
    {
      "cell_type": "code",
      "source": [
        "def cube(n):\n",
        "    return n**3\n",
        "for i in range(0,10):\n",
        "    c=cube(i)\n",
        "    print(c)"
      ],
      "metadata": {
        "colab": {
          "base_uri": "https://localhost:8080/"
        },
        "id": "5Ki2EMHPCYeQ",
        "outputId": "90d08a13-1c8f-40f0-9320-9c2eba4b76cb"
      },
      "execution_count": null,
      "outputs": [
        {
          "output_type": "stream",
          "name": "stdout",
          "text": [
            "0\n",
            "1\n",
            "8\n",
            "27\n",
            "64\n",
            "125\n",
            "216\n",
            "343\n",
            "512\n",
            "729\n"
          ]
        }
      ]
    }
  ],
  "metadata": {
    "colab": {
      "provenance": [],
      "authorship_tag": "ABX9TyO5A1uyXGk3+lbliwbdramf",
      "include_colab_link": true
    },
    "kernelspec": {
      "display_name": "Python 3",
      "name": "python3"
    },
    "language_info": {
      "name": "python"
    }
  },
  "nbformat": 4,
  "nbformat_minor": 0
}