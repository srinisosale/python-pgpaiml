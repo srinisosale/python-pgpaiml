{
 "cells": [
  {
   "cell_type": "markdown",
   "metadata": {
    "id": "oxGKWw82dEOh"
   },
   "source": [
    "<center><p float=\"center\">\n",
    "  <img src=\"https://upload.wikimedia.org/wikipedia/commons/e/e9/4_RGB_McCombs_School_Brand_Branded.png\" width=\"300\" height=\"100\"/>\n",
    "  <img src=\"https://mma.prnewswire.com/media/1458111/Great_Learning_Logo.jpg?p=facebook\" width=\"200\" height=\"100\"/>\n",
    "</p></center>\n",
    "\n",
    "<h1><center><font size=8>Artificial Intelligence and Machine Learning</center></font></h1>\n",
    "<h1><center>Bootcamp - Week 1</center></h1>\n",
    "<center><font size=4>Introduction to programming</font></center>\n"
   ]
  },
  {
   "cell_type": "markdown",
   "metadata": {
    "id": "vS_4h9KDyQhW"
   },
   "source": [
    "## **Exercise 1:**\n",
    "\n",
    "> Davidson High School is located in San Francisco. The students are taught two subjects maths and computer science (CS). The marks scored out of 20 by 5 students are given below (Name of the student, marks scored in math, marks scored in computer science):\n",
    "\n",
    "1. Tom, 18, 14\n",
    "2. Sarah, 7, 9\n",
    "3. Sophia, 19, 20\n",
    "4. Sam, 15, 18\n",
    "5. Markk, 6, 11.5"
   ]
  },
  {
   "cell_type": "markdown",
   "metadata": {
    "id": "6zd-K6wt0cbH"
   },
   "source": [
    "#### **1. Declare and assign Tom's name, marks in math, and marks in CS to variables student1_name, student1_math, student1_cs respectively.**"
   ]
  },
  {
   "cell_type": "code",
   "execution_count": 6,
   "metadata": {
    "id": "4hLrQAsp09yL"
   },
   "outputs": [],
   "source": [
    "student1_name=\"Tom\"\n",
    "student1_math=18\n",
    "student1_cs=14\n",
    "student2_name=\"Sarah\"\n",
    "student2_math=7\n",
    "student2_cs=9\n",
    "student3_name=\"Sophia\"\n",
    "student3_math=19\n",
    "student3_cs=20\n",
    "student4_name=\"Sam\"\n",
    "student4_math=15\n",
    "student4_cs=18\n",
    "student5_name=\"Markk\"\n",
    "student5_math=6\n",
    "student5_cs=11.5"
   ]
  },
  {
   "cell_type": "markdown",
   "metadata": {
    "id": "9iNWh-Fl1YBl"
   },
   "source": [
    "#### **2. Tom's math marks have been updated to the same as his marks in CS after re-evaluation. Could you please change the value for the same by reassigning the variable?**"
   ]
  },
  {
   "cell_type": "code",
   "execution_count": 2,
   "metadata": {
    "id": "VyQy8vvTOKWW"
   },
   "outputs": [],
   "source": [
    "student1_math=18"
   ]
  },
  {
   "cell_type": "markdown",
   "metadata": {
    "id": "2si0wCci2BvS"
   },
   "source": [
    "#### **3. Sarah decided to include her last name in her grade sheet. Could you concatenate her first name (Sarah) and last name (Turner) and assign the value to the variable \"student2_name\"?**"
   ]
  },
  {
   "cell_type": "code",
   "execution_count": 3,
   "metadata": {
    "id": "pSjQJ75uHEDE"
   },
   "outputs": [],
   "source": [
    "student2_name=\"Sarah\"+\" \"+\"Turner\""
   ]
  },
  {
   "cell_type": "markdown",
   "metadata": {
    "id": "glDIMMgY27D5"
   },
   "source": [
    "#### **4. Mark's name has been spelled wrong in the grade sheet. Can you get the subset of the string student5_name= \"Markk\" and update it to the correct spelling (Mark)?**"
   ]
  },
  {
   "cell_type": "code",
   "execution_count": 7,
   "metadata": {
    "id": "-WezacOJ34El"
   },
   "outputs": [],
   "source": [
    "\n",
    "student5_name=student5_name[0:4]"
   ]
  },
  {
   "cell_type": "markdown",
   "metadata": {
    "id": "TLiarSLy5x0C"
   },
   "source": [
    "#### **5. You want to check if Tom's marks in math are higher than that of Sophia**\n",
    "Hint: Use Boolean values for comparison."
   ]
  },
  {
   "cell_type": "code",
   "execution_count": 8,
   "metadata": {
    "id": "c-UGBA836mgi"
   },
   "outputs": [
    {
     "data": {
      "text/plain": [
       "False"
      ]
     },
     "execution_count": 8,
     "metadata": {},
     "output_type": "execute_result"
    }
   ],
   "source": [
    "student1_math>student3_math"
   ]
  },
  {
   "cell_type": "markdown",
   "metadata": {
    "id": "SZm1HgnA7jbR"
   },
   "source": [
    "#### **6. What is Tom's average marks? What is its datatype?**\n",
    "\n",
    "\n"
   ]
  },
  {
   "cell_type": "code",
   "execution_count": 10,
   "metadata": {
    "id": "lcGsBewWLtiJ"
   },
   "outputs": [],
   "source": [
    "TomAvg=(student1_math+student1_cs)/2"
   ]
  },
  {
   "cell_type": "code",
   "execution_count": 12,
   "metadata": {
    "id": "FO_6rPUj7wMO"
   },
   "outputs": [
    {
     "data": {
      "text/plain": [
       "float"
      ]
     },
     "execution_count": 12,
     "metadata": {},
     "output_type": "execute_result"
    }
   ],
   "source": [
    "TomAvg\n",
    "type(TomAvg)"
   ]
  },
  {
   "cell_type": "markdown",
   "metadata": {
    "id": "RQSDIMHK73Ri"
   },
   "source": [
    "#### **7. Mark's CS marks is 11.5. In order to maintain uniformity, can you please convert it into integer and assign it to variable student5_cs?**"
   ]
  },
  {
   "cell_type": "code",
   "execution_count": 13,
   "metadata": {
    "id": "kxjV8kKG8HQR"
   },
   "outputs": [],
   "source": [
    "student5_cs=int(student5_cs)"
   ]
  },
  {
   "cell_type": "markdown",
   "metadata": {
    "id": "pKW3dYhg8Wy3"
   },
   "source": [
    "#### **8. You are assigned the task of printing out the marks of the students on the grade sheet in the following format** -  \n",
    "*Student_name* has scored *student_marks_math* in math and *student_marks_cs* in CS. \n",
    "\n",
    "Since this will be a repetitive task for every student. You have created the following variables to save your time. \n",
    "\n",
    "str1=\"has scored\"\n",
    "\n",
    "str2=\"in math and\"\n",
    "\n",
    "str3=\"in CS\"\n",
    "\n",
    "Concatenate them with the student's name, math marks, and CS marks for Sam in order to print \n",
    "\n",
    "\"Tom has scored 14 in math and 14 in CS\""
   ]
  },
  {
   "cell_type": "code",
   "execution_count": 18,
   "metadata": {
    "id": "jtIhGiK79oDc"
   },
   "outputs": [
    {
     "name": "stdout",
     "output_type": "stream",
     "text": [
      "Tom has scored 18 in math and 14 in CS\n"
     ]
    }
   ],
   "source": [
    "str1=\" has scored \"\n",
    "str2=\" in math and \"\n",
    "str3=\" in CS\"\n",
    "report=student1_name+str1+str(student1_math)+str2+str(student1_cs)+str3\n",
    "print (report)"
   ]
  },
  {
   "cell_type": "markdown",
   "metadata": {
    "id": "jAbJmtADbN42"
   },
   "source": [
    "#### **9. You have a string variable sarah_math=\"9 in math\". You want to extract 9 from this string in the form of an integer. But, you are encountering an error when you perform int(\"9 in math\"). How would you fix it?**\n",
    "\n"
   ]
  },
  {
   "cell_type": "code",
   "execution_count": 22,
   "metadata": {
    "id": "wa8_pkTUcEnr"
   },
   "outputs": [
    {
     "name": "stdout",
     "output_type": "stream",
     "text": [
      "9\n"
     ]
    },
    {
     "data": {
      "text/plain": [
       "int"
      ]
     },
     "execution_count": 22,
     "metadata": {},
     "output_type": "execute_result"
    }
   ],
   "source": [
    "sarah_math=\"9 in math\"\n",
    "extInt=int(sarah_math[0:1])\n",
    "print (extInt)\n",
    "type(extInt)"
   ]
  },
  {
   "cell_type": "markdown",
   "metadata": {
    "id": "OHYMqW0tc7lN"
   },
   "source": [
    "#### **10. Can you check if Tom has a higher total than Sam after assigning Sam's marks to student4_math and student4_cs variables respectively?**"
   ]
  },
  {
   "cell_type": "code",
   "execution_count": 23,
   "metadata": {
    "id": "wy0lqLM-dPaD"
   },
   "outputs": [
    {
     "data": {
      "text/plain": [
       "False"
      ]
     },
     "execution_count": 23,
     "metadata": {},
     "output_type": "execute_result"
    }
   ],
   "source": [
    "(student1_math > student4_math) & (student1_cs>student4_cs)"
   ]
  },
  {
   "cell_type": "markdown",
   "metadata": {
    "id": "CyIUqvGyGIz1"
   },
   "source": [
    "## **Exercise 2:**\n",
    "\n",
    "> We know that - Isaac Burton is a 27 year old student in California.\n",
    "This information will be used in the following set of questions."
   ]
  },
  {
   "cell_type": "markdown",
   "metadata": {
    "id": "s-JM6dnPLYfW"
   },
   "source": [
    "#### **1. Declare and assign the following values.**\n",
    "\n",
    "Assign Isaac's age to variable \"isaac_age_int\" of data type int (for example: 5).\n",
    "\n",
    "Assign Isaac's age to variable \"isaac_age_float\" of data type float (for example: 5.0).\n",
    "\n",
    "Assign Isaac's age to variable \"isaac_age_str\" of data type str (for example: \"5\")."
   ]
  },
  {
   "cell_type": "code",
   "execution_count": null,
   "metadata": {
    "id": "RHehq1k_zgOq"
   },
   "outputs": [],
   "source": []
  },
  {
   "cell_type": "markdown",
   "metadata": {
    "id": "fZl7dqbvM3HQ"
   },
   "source": [
    "#### **2. Try to create the name \"Isaac Burton\" from the following set of string variables.**\n",
    "\n",
    "Hint: Use string concatenation and repitition\n",
    "\n",
    "str1=\"Is\"\n",
    "\n",
    "str2=\"a\"\n",
    "\n",
    "str3=\"Burton\"\n",
    "\n",
    "str4=\"c \"\n"
   ]
  },
  {
   "cell_type": "code",
   "execution_count": null,
   "metadata": {
    "id": "RyWzs77COU3B"
   },
   "outputs": [],
   "source": []
  },
  {
   "cell_type": "markdown",
   "metadata": {
    "id": "CFmdr6vRQjHE"
   },
   "source": [
    "####**3. Assign \"Isaac Burton\" to the string \"full_name\" and extract \"Isaac\" from the string \"full_name\" and assign it to the string \"first_name\"**\n",
    "\n",
    "full_name=\"Isaac Burton\""
   ]
  },
  {
   "cell_type": "code",
   "execution_count": null,
   "metadata": {
    "id": "0mq7119AQTEw"
   },
   "outputs": [],
   "source": []
  },
  {
   "cell_type": "markdown",
   "metadata": {
    "id": "N1cZm_83RxlA"
   },
   "source": [
    "#### **4. Check using comparison operators if the temperature of California (in Celcius) is greater on Monday or Tuesday?**\n",
    "\n",
    "temp_monday=11.3\n",
    "\n",
    "temp_tuesday=13.7\n",
    "\n",
    "temp_monday, temp_tuesday=13.7, 11.3\n"
   ]
  },
  {
   "cell_type": "code",
   "execution_count": null,
   "metadata": {
    "id": "iIo11Ap_TCna"
   },
   "outputs": [],
   "source": []
  },
  {
   "cell_type": "markdown",
   "metadata": {
    "id": "3-3ymbotL4rX"
   },
   "source": [
    "#### **5. Isaac wants to add the temperatures of Monday and Tuesday. What will be the data type of the resulting temperature?**"
   ]
  },
  {
   "cell_type": "code",
   "execution_count": null,
   "metadata": {
    "id": "kcA0BmW8MJx7"
   },
   "outputs": [],
   "source": []
  },
  {
   "cell_type": "markdown",
   "metadata": {
    "id": "wPblDm-_qycT"
   },
   "source": [
    "Hint: The answer is float."
   ]
  },
  {
   "cell_type": "markdown",
   "metadata": {
    "id": "zI3ljuI8TS3n"
   },
   "source": [
    "#### **6. Can you convert 13.7 (float) to \"13\" (string) using type conversion?**"
   ]
  },
  {
   "cell_type": "code",
   "execution_count": null,
   "metadata": {
    "id": "NfWchm1UTQ5f"
   },
   "outputs": [],
   "source": []
  },
  {
   "cell_type": "markdown",
   "metadata": {
    "id": "2sb8pWvNJV73"
   },
   "source": [
    "#### **7. How can you form the sentence \"Isaac is 27 years old\" using the below variables?**\n",
    "\n",
    "str1=\"Isaac is \"\n",
    "\n",
    "age=27\n",
    "\n",
    "str3=\" years old\""
   ]
  },
  {
   "cell_type": "code",
   "execution_count": null,
   "metadata": {
    "id": "TLSOMsAgc-le"
   },
   "outputs": [],
   "source": []
  },
  {
   "cell_type": "markdown",
   "metadata": {
    "id": "PQkHzuU0KMmc"
   },
   "source": [
    "#### **8. Isaac wants to compare if his age represented as 27 and 27.0 are equal. But he is getting an error by doing 27 = 27.0. Kindly correct it for him.**"
   ]
  },
  {
   "cell_type": "code",
   "execution_count": null,
   "metadata": {
    "id": "3MHF71J9NyHu"
   },
   "outputs": [],
   "source": []
  },
  {
   "cell_type": "markdown",
   "metadata": {
    "id": "s5w_ZS7cRxeY"
   },
   "source": [
    "#### **9. Isaac is curious if he can get boolean values for comparing strings. Check if \"Isaac\" is greater than \"Burton\".**"
   ]
  },
  {
   "cell_type": "code",
   "execution_count": null,
   "metadata": {
    "id": "h_Q-JnmTT7oV"
   },
   "outputs": [],
   "source": []
  },
  {
   "cell_type": "markdown",
   "metadata": {
    "id": "pUf1zSoZFdMA"
   },
   "source": [
    "Hint: the answer is True.\n",
    "\n",
    "In string comparison, the first characters of both the strings are compared and the letter which comes after is greater than the letter coming before it. For example, \"b\"<\"e\"."
   ]
  },
  {
   "cell_type": "markdown",
   "metadata": {
    "id": "6YzWiKupAigB"
   },
   "source": [
    "#### **10. Isaac wants to swap the temperatures of Monday and Tuesday stored in the variables temp_monday and temp_tuesday because they were assigned wrongly. How can he perform this?**"
   ]
  },
  {
   "cell_type": "code",
   "execution_count": null,
   "metadata": {
    "id": "u6Vyc6KtUAQH"
   },
   "outputs": [],
   "source": []
  },
  {
   "cell_type": "markdown",
   "metadata": {
    "id": "9OTcsYAdcpAh"
   },
   "source": [
    "In the above code, the temperature of monday is assigned to the variable dummy so that we preserve it even after assigning the value of temp_tuesday to temp_monday. Later, the value of temp_monday which is stored in dummy us assigned to temp_tuesday, and hence, the values are swapped."
   ]
  },
  {
   "cell_type": "markdown",
   "metadata": {
    "id": "nsAff7GkcrC1"
   },
   "source": [
    "OR"
   ]
  },
  {
   "cell_type": "code",
   "execution_count": null,
   "metadata": {
    "id": "XZVspvJoM0ZX"
   },
   "outputs": [],
   "source": []
  },
  {
   "cell_type": "markdown",
   "metadata": {
    "id": "lQhzE-wzctQA"
   },
   "source": [
    "Python allows us to directly assign the values on the left to the right without using dummy values. Thus, the value in temp_tuesday is assigned to temp_monday and vice versa directly."
   ]
  }
 ],
 "metadata": {
  "colab": {
   "collapsed_sections": [],
   "name": "Practice exercise-Intro_to_programming.ipynb",
   "provenance": []
  },
  "kernelspec": {
   "display_name": "Python 3 (ipykernel)",
   "language": "python",
   "name": "python3"
  },
  "language_info": {
   "codemirror_mode": {
    "name": "ipython",
    "version": 3
   },
   "file_extension": ".py",
   "mimetype": "text/x-python",
   "name": "python",
   "nbconvert_exporter": "python",
   "pygments_lexer": "ipython3",
   "version": "3.9.13"
  }
 },
 "nbformat": 4,
 "nbformat_minor": 1
}
